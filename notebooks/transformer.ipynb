{
 "cells": [
  {
   "cell_type": "code",
   "execution_count": 2,
   "id": "7085c21e-96c1-45b5-8197-a82afa4437df",
   "metadata": {},
   "outputs": [],
   "source": [
    "import torch\n",
    "import torch.nn as nn\n",
    "import torch.nn.functional as F"
   ]
  },
  {
   "cell_type": "code",
   "execution_count": 3,
   "id": "b98f1e7a-7caa-49a5-8612-3f6a32fb923e",
   "metadata": {},
   "outputs": [],
   "source": [
    "class TransformerWithProjection(nn.Module):\n",
    "    def __init__(self, vocab_size, embed_size):\n",
    "        super(TransformerWithProjection, self).__init__()\n",
    "        self.embedding = nn.Embedding(vocab_size, embed_size)\n",
    "        self.fc_out = nn.Linear(embed_size, vocab_size)\n",
    "\n",
    "    def forward(self, src):\n",
    "        src_emb = self.embedding(src)\n",
    "        logits = self.fc_out(src_emb)\n",
    "        return logits"
   ]
  },
  {
   "cell_type": "code",
   "execution_count": 15,
   "id": "f2d38acd-e5de-46e9-ba74-c3a6a03eeccf",
   "metadata": {},
   "outputs": [
    {
     "name": "stdout",
     "output_type": "stream",
     "text": [
      "Loss: 9.699930191040039\n"
     ]
    }
   ],
   "source": [
    "# Define model parameters\n",
    "vocab_size = 10000  # Size of the vocabulary\n",
    "embed_size = 512    # Embedding dimension\n",
    "\n",
    "# Initialize the model\n",
    "model = TransformerWithProjection(vocab_size, embed_size)\n",
    "\n",
    "# Example input and target\n",
    "input_seq = torch.randint(0, vocab_size, (2, 4))  # (batch_size, seq_len)\n",
    "target = torch.randint(0, vocab_size, (2, 4))    # (batch_size, seq_len)\n",
    "\n",
    "# Forward pass\n",
    "logits = model(input_seq)  # logits shape: (batch_size, seq_len, vocab_size)\n",
    "\n",
    "# Reshape logits and targets for loss calculation\n",
    "logits_reshaped = logits.view(-1, vocab_size)  # Shape: (batch_size * seq_len, vocab_size)\n",
    "target_reshaped = target.view(-1)              # Shape: (batch_size * seq_len)\n",
    "\n",
    "# Define the loss function\n",
    "criterion = nn.CrossEntropyLoss()\n",
    "\n",
    "# Compute the loss\n",
    "loss = criterion(logits_reshaped, target_reshaped)\n",
    "print(f\"Loss: {loss.item()}\")"
   ]
  },
  {
   "cell_type": "code",
   "execution_count": 16,
   "id": "3b99f6ec-c8b1-4f38-9bba-4104732f2256",
   "metadata": {},
   "outputs": [
    {
     "data": {
      "text/plain": [
       "torch.Size([2, 4, 512])"
      ]
     },
     "execution_count": 16,
     "metadata": {},
     "output_type": "execute_result"
    }
   ],
   "source": [
    "x1 = model.embedding(input_seq)\n",
    "x1.shape"
   ]
  },
  {
   "cell_type": "code",
   "execution_count": 17,
   "id": "5bb9aef8-9378-4033-b01a-54dafa091354",
   "metadata": {},
   "outputs": [
    {
     "data": {
      "text/plain": [
       "torch.Size([2, 4, 10000])"
      ]
     },
     "execution_count": 17,
     "metadata": {},
     "output_type": "execute_result"
    }
   ],
   "source": [
    "x2 = model.fc_out(x1)\n",
    "x2.shape"
   ]
  },
  {
   "cell_type": "code",
   "execution_count": 27,
   "id": "927736ad-2771-4b64-9a5c-643fc08250db",
   "metadata": {},
   "outputs": [
    {
     "name": "stdout",
     "output_type": "stream",
     "text": [
      "Loss: 9.299447059631348\n"
     ]
    }
   ],
   "source": [
    "import torch\n",
    "import torch.nn as nn\n",
    "import torch.nn.functional as F\n",
    "\n",
    "# Define a single Transformer Encoder Layer\n",
    "class TransformerEncoderLayer(nn.Module):\n",
    "    def __init__(self, embed_size, num_heads, ff_hidden_size, dropout=0.1):\n",
    "        super(TransformerEncoderLayer, self).__init__()\n",
    "        self.self_attention = nn.MultiheadAttention(embed_dim=embed_size, num_heads=num_heads, dropout=dropout)\n",
    "        self.feed_forward = nn.Sequential(\n",
    "            nn.Linear(embed_size, ff_hidden_size),\n",
    "            nn.ReLU(),\n",
    "            nn.Linear(ff_hidden_size, embed_size)\n",
    "        )\n",
    "        self.layer_norm1 = nn.LayerNorm(embed_size)\n",
    "        self.layer_norm2 = nn.LayerNorm(embed_size)\n",
    "        self.dropout = nn.Dropout(dropout)\n",
    "\n",
    "    def forward(self, x):\n",
    "        # Self Attention\n",
    "        attn_output, _ = self.self_attention(x, x, x)\n",
    "        x = self.layer_norm1(x + self.dropout(attn_output))\n",
    "        # Feed Forward\n",
    "        ff_output = self.feed_forward(x)\n",
    "        x = self.layer_norm2(x + self.dropout(ff_output))\n",
    "        return x\n",
    "\n",
    "# Define the Transformer Model\n",
    "class TransformerWithProjection(nn.Module):\n",
    "    def __init__(self, vocab_size, embed_size, num_heads, num_layers, ff_hidden_size, dropout=0.1):\n",
    "        super(TransformerWithProjection, self).__init__()\n",
    "        self.embedding = nn.Embedding(vocab_size, embed_size)\n",
    "        self.positional_encoding = nn.Parameter(torch.zeros(1, 500, embed_size))  # Assuming max sequence length of 500\n",
    "        self.encoder_layers = nn.ModuleList([\n",
    "            TransformerEncoderLayer(embed_size, num_heads, ff_hidden_size, dropout)\n",
    "            for _ in range(num_layers)\n",
    "        ])\n",
    "        self.fc_out = nn.Linear(embed_size, vocab_size)\n",
    "\n",
    "    def forward(self, src):\n",
    "        seq_len = src.size(1)\n",
    "        src_emb = self.embedding(src) + self.positional_encoding[:, :seq_len]\n",
    "        src_emb = src_emb.permute(1, 0, 2)  # Change shape to (seq_len, batch_size, embed_size)\n",
    "\n",
    "        for layer in self.encoder_layers:\n",
    "            src_emb = layer(src_emb)\n",
    "\n",
    "        src_emb = src_emb.permute(1, 0, 2)  # Change shape back to (batch_size, seq_len, embed_size)\n",
    "        logits = self.fc_out(src_emb)\n",
    "        return logits\n",
    "\n",
    "# Example parameters\n",
    "vocab_size = 10000  # Size of the vocabulary\n",
    "embed_size = 512    # Embedding dimension\n",
    "num_heads = 8       # Number of attention heads\n",
    "num_layers = 12      # Number of transformer layers\n",
    "ff_hidden_size = 2048  # Hidden size of the feed-forward layer\n",
    "\n",
    "# Initialize the model\n",
    "model = TransformerWithProjection(vocab_size, embed_size, num_heads, num_layers, ff_hidden_size)\n",
    "\n",
    "# Example input and target\n",
    "input_seq = torch.randint(0, vocab_size, (2, 4))  # (batch_size, seq_len)\n",
    "target = torch.randint(0, vocab_size, (2, 4))    # (batch_size, seq_len)\n",
    "\n",
    "# Forward pass\n",
    "logits = model(input_seq)  # logits shape: (batch_size, seq_len, vocab_size)\n",
    "\n",
    "# Reshape logits and targets for loss calculation\n",
    "logits_reshaped = logits.view(-1, vocab_size)  # Shape: (batch_size * seq_len, vocab_size)\n",
    "target_reshaped = target.view(-1)              # Shape: (batch_size * seq_len)\n",
    "\n",
    "# Define the loss function\n",
    "criterion = nn.CrossEntropyLoss()\n",
    "\n",
    "# Compute the loss\n",
    "loss = criterion(logits_reshaped, target_reshaped)\n",
    "print(f\"Loss: {loss.item()}\")"
   ]
  },
  {
   "cell_type": "code",
   "execution_count": 28,
   "id": "3711610f-e314-4588-8c79-f73333a64dcf",
   "metadata": {},
   "outputs": [
    {
     "name": "stdout",
     "output_type": "stream",
     "text": [
      "Predicted token: tensor([8389, 9676])\n"
     ]
    }
   ],
   "source": [
    "# Extract logits for the last token\n",
    "last_token_logits = logits[:, -1, :]  # Shape: (batch_size, vocab_size)\n",
    "\n",
    "# Compute probabilities for the last token\n",
    "probs = F.softmax(last_token_logits, dim=-1)\n",
    "\n",
    "# Get the predicted token (highest probability)\n",
    "predicted_token = torch.argmax(probs, dim=-1)\n",
    "print(f\"Predicted token: {predicted_token}\")"
   ]
  },
  {
   "cell_type": "code",
   "execution_count": null,
   "id": "00b75237-1d66-47cb-9701-c6d425327e17",
   "metadata": {},
   "outputs": [],
   "source": []
  }
 ],
 "metadata": {
  "kernelspec": {
   "display_name": "Python 3 (ipykernel)",
   "language": "python",
   "name": "python3"
  },
  "language_info": {
   "codemirror_mode": {
    "name": "ipython",
    "version": 3
   },
   "file_extension": ".py",
   "mimetype": "text/x-python",
   "name": "python",
   "nbconvert_exporter": "python",
   "pygments_lexer": "ipython3",
   "version": "3.12.3"
  }
 },
 "nbformat": 4,
 "nbformat_minor": 5
}
